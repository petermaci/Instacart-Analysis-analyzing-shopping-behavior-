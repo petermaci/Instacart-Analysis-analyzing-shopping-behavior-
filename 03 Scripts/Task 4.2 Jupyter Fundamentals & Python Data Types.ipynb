{
 "cells": [
  {
   "cell_type": "markdown",
   "id": "9ff63d58",
   "metadata": {},
   "source": [
    "# Task 4.2 "
   ]
  },
  {
   "cell_type": "markdown",
   "id": "b8d92ef3",
   "metadata": {},
   "source": [
    "Table of Contents\n",
    "1. Importing Libraries\n",
    "2. Data Types"
   ]
  },
  {
   "cell_type": "markdown",
   "id": "4b868043",
   "metadata": {},
   "source": [
    "# 01. Importing Libraries "
   ]
  },
  {
   "cell_type": "code",
   "execution_count": 1,
   "id": "6a1791eb",
   "metadata": {},
   "outputs": [],
   "source": [
    "# Import libraries\n",
    "import pandas as pd\n",
    "import numpy as np\n",
    "import os"
   ]
  },
  {
   "cell_type": "code",
   "execution_count": null,
   "id": "eaa6485f",
   "metadata": {},
   "outputs": [],
   "source": []
  },
  {
   "cell_type": "markdown",
   "id": "0cca7ff6",
   "metadata": {},
   "source": [
    "# 02. Data types"
   ]
  },
  {
   "cell_type": "code",
   "execution_count": 2,
   "id": "e6571228",
   "metadata": {},
   "outputs": [],
   "source": [
    "# Code 3 different ways of reaching a result of 100 by adding or subtracting numeric variables."
   ]
  },
  {
   "cell_type": "code",
   "execution_count": 3,
   "id": "c8be2894",
   "metadata": {},
   "outputs": [],
   "source": [
    "x = 10"
   ]
  },
  {
   "cell_type": "code",
   "execution_count": 4,
   "id": "b821f33d",
   "metadata": {},
   "outputs": [
    {
     "data": {
      "text/plain": [
       "100"
      ]
     },
     "execution_count": 4,
     "metadata": {},
     "output_type": "execute_result"
    }
   ],
   "source": [
    "x * 10 "
   ]
  },
  {
   "cell_type": "code",
   "execution_count": 5,
   "id": "bb97e5d5",
   "metadata": {},
   "outputs": [],
   "source": [
    "y = 90"
   ]
  },
  {
   "cell_type": "code",
   "execution_count": 6,
   "id": "dfbb443a",
   "metadata": {},
   "outputs": [
    {
     "data": {
      "text/plain": [
       "100"
      ]
     },
     "execution_count": 6,
     "metadata": {},
     "output_type": "execute_result"
    }
   ],
   "source": [
    "y + x"
   ]
  },
  {
   "cell_type": "code",
   "execution_count": 7,
   "id": "7d351b29",
   "metadata": {},
   "outputs": [
    {
     "data": {
      "text/plain": [
       "100"
      ]
     },
     "execution_count": 7,
     "metadata": {},
     "output_type": "execute_result"
    }
   ],
   "source": [
    "y + x + x - x"
   ]
  },
  {
   "cell_type": "code",
   "execution_count": 8,
   "id": "5c2fb780",
   "metadata": {},
   "outputs": [],
   "source": [
    "z = 0"
   ]
  },
  {
   "cell_type": "code",
   "execution_count": 9,
   "id": "ed9c40f6",
   "metadata": {},
   "outputs": [
    {
     "data": {
      "text/plain": [
       "100"
      ]
     },
     "execution_count": 9,
     "metadata": {},
     "output_type": "execute_result"
    }
   ],
   "source": [
    "z + y + x"
   ]
  },
  {
   "cell_type": "code",
   "execution_count": 10,
   "id": "89414d4e",
   "metadata": {},
   "outputs": [],
   "source": [
    "# Code 2 floating-point variables and divide them by each other."
   ]
  },
  {
   "cell_type": "code",
   "execution_count": 11,
   "id": "c5006867",
   "metadata": {},
   "outputs": [],
   "source": [
    "a = 1.12"
   ]
  },
  {
   "cell_type": "code",
   "execution_count": 12,
   "id": "ed114fd9",
   "metadata": {},
   "outputs": [
    {
     "data": {
      "text/plain": [
       "float"
      ]
     },
     "execution_count": 12,
     "metadata": {},
     "output_type": "execute_result"
    }
   ],
   "source": [
    "type (a)"
   ]
  },
  {
   "cell_type": "code",
   "execution_count": 13,
   "id": "67217a18",
   "metadata": {},
   "outputs": [],
   "source": [
    "b = 0.6"
   ]
  },
  {
   "cell_type": "code",
   "execution_count": 14,
   "id": "4d9bfa75",
   "metadata": {},
   "outputs": [
    {
     "data": {
      "text/plain": [
       "float"
      ]
     },
     "execution_count": 14,
     "metadata": {},
     "output_type": "execute_result"
    }
   ],
   "source": [
    "type(b)"
   ]
  },
  {
   "cell_type": "code",
   "execution_count": 15,
   "id": "54c051b4",
   "metadata": {},
   "outputs": [
    {
     "data": {
      "text/plain": [
       "1.866666666666667"
      ]
     },
     "execution_count": 15,
     "metadata": {},
     "output_type": "execute_result"
    }
   ],
   "source": [
    "a / b"
   ]
  },
  {
   "cell_type": "code",
   "execution_count": 16,
   "id": "7e0f1976",
   "metadata": {},
   "outputs": [],
   "source": [
    "# Construct a short word made of separate strings"
   ]
  },
  {
   "cell_type": "code",
   "execution_count": 17,
   "id": "41649670",
   "metadata": {},
   "outputs": [],
   "source": [
    "c = 'Hel'"
   ]
  },
  {
   "cell_type": "code",
   "execution_count": 18,
   "id": "e4bd85c4",
   "metadata": {},
   "outputs": [],
   "source": [
    "d = 'lo'"
   ]
  },
  {
   "cell_type": "code",
   "execution_count": 19,
   "id": "34305a57",
   "metadata": {},
   "outputs": [
    {
     "data": {
      "text/plain": [
       "str"
      ]
     },
     "execution_count": 19,
     "metadata": {},
     "output_type": "execute_result"
    }
   ],
   "source": [
    "type (c)"
   ]
  },
  {
   "cell_type": "code",
   "execution_count": 20,
   "id": "46cc1899",
   "metadata": {},
   "outputs": [
    {
     "data": {
      "text/plain": [
       "str"
      ]
     },
     "execution_count": 20,
     "metadata": {},
     "output_type": "execute_result"
    }
   ],
   "source": [
    "type (d)"
   ]
  },
  {
   "cell_type": "code",
   "execution_count": 21,
   "id": "a483c819",
   "metadata": {},
   "outputs": [
    {
     "data": {
      "text/plain": [
       "'Hello'"
      ]
     },
     "execution_count": 21,
     "metadata": {},
     "output_type": "execute_result"
    }
   ],
   "source": [
    "c+d"
   ]
  },
  {
   "cell_type": "code",
   "execution_count": 22,
   "id": "dcbdcd01",
   "metadata": {},
   "outputs": [],
   "source": [
    "# Construct 2 short sentences made of separate strings."
   ]
  },
  {
   "cell_type": "code",
   "execution_count": 23,
   "id": "167bc9b6",
   "metadata": {},
   "outputs": [],
   "source": [
    "a = 'Hello, I hope you are keeping well. '"
   ]
  },
  {
   "cell_type": "code",
   "execution_count": 24,
   "id": "29b18135",
   "metadata": {},
   "outputs": [],
   "source": [
    "b = 'It certainly has been quite a weird last two years. '"
   ]
  },
  {
   "cell_type": "code",
   "execution_count": 25,
   "id": "dbc7a0ae",
   "metadata": {},
   "outputs": [
    {
     "data": {
      "text/plain": [
       "'Hello, I hope you are keeping well. It certainly has been quite a weird last two years. '"
      ]
     },
     "execution_count": 25,
     "metadata": {},
     "output_type": "execute_result"
    }
   ],
   "source": [
    "a + b"
   ]
  },
  {
   "cell_type": "code",
   "execution_count": 26,
   "id": "938bd6ab",
   "metadata": {},
   "outputs": [],
   "source": [
    "# Bonus --- At the bottom of your file, include a command that makes a string appear 100 times."
   ]
  },
  {
   "cell_type": "code",
   "execution_count": 27,
   "id": "c5a5d9d5",
   "metadata": {},
   "outputs": [],
   "source": [
    "a = 'Hello! '"
   ]
  },
  {
   "cell_type": "code",
   "execution_count": 28,
   "id": "5bb83fe9",
   "metadata": {},
   "outputs": [
    {
     "data": {
      "text/plain": [
       "str"
      ]
     },
     "execution_count": 28,
     "metadata": {},
     "output_type": "execute_result"
    }
   ],
   "source": [
    "type (a)"
   ]
  },
  {
   "cell_type": "code",
   "execution_count": 29,
   "id": "7b0b3963",
   "metadata": {},
   "outputs": [
    {
     "data": {
      "text/plain": [
       "'Hello! Hello! Hello! Hello! Hello! Hello! Hello! Hello! Hello! Hello! Hello! Hello! Hello! Hello! Hello! Hello! Hello! Hello! Hello! Hello! Hello! Hello! Hello! Hello! Hello! Hello! Hello! Hello! Hello! Hello! Hello! Hello! Hello! Hello! Hello! Hello! Hello! Hello! Hello! Hello! Hello! Hello! Hello! Hello! Hello! Hello! Hello! Hello! Hello! Hello! Hello! Hello! Hello! Hello! Hello! Hello! Hello! Hello! Hello! Hello! Hello! Hello! Hello! Hello! Hello! Hello! Hello! Hello! Hello! Hello! Hello! Hello! Hello! Hello! Hello! Hello! Hello! Hello! Hello! Hello! Hello! Hello! Hello! Hello! Hello! Hello! Hello! Hello! Hello! Hello! Hello! Hello! Hello! Hello! Hello! Hello! Hello! Hello! Hello! Hello! '"
      ]
     },
     "execution_count": 29,
     "metadata": {},
     "output_type": "execute_result"
    }
   ],
   "source": [
    "a * 100"
   ]
  },
  {
   "cell_type": "code",
   "execution_count": null,
   "id": "1cd126a3",
   "metadata": {},
   "outputs": [],
   "source": []
  },
  {
   "cell_type": "code",
   "execution_count": null,
   "id": "9f42f534",
   "metadata": {},
   "outputs": [],
   "source": []
  },
  {
   "cell_type": "code",
   "execution_count": null,
   "id": "8f2519e0",
   "metadata": {},
   "outputs": [],
   "source": []
  }
 ],
 "metadata": {
  "kernelspec": {
   "display_name": "Python 3 (ipykernel)",
   "language": "python",
   "name": "python3"
  },
  "language_info": {
   "codemirror_mode": {
    "name": "ipython",
    "version": 3
   },
   "file_extension": ".py",
   "mimetype": "text/x-python",
   "name": "python",
   "nbconvert_exporter": "python",
   "pygments_lexer": "ipython3",
   "version": "3.9.7"
  }
 },
 "nbformat": 4,
 "nbformat_minor": 5
}
